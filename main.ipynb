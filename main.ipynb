{
  "metadata": {
    "kernelspec": {
      "display_name": "Python 3",
      "name": "python3"
    },
    "language_info": {
      "name": "python",
      "version": "3.11.11",
      "mimetype": "text/x-python",
      "codemirror_mode": {
        "name": "ipython",
        "version": 3
      },
      "pygments_lexer": "ipython3",
      "nbconvert_exporter": "python",
      "file_extension": ".py"
    },
    "kaggle": {
      "accelerator": "nvidiaTeslaT4",
      "dataSources": [
        {
          "sourceId": 11801327,
          "sourceType": "datasetVersion",
          "datasetId": 7411162
        },
        {
          "sourceId": 11801332,
          "sourceType": "datasetVersion",
          "datasetId": 7411166
        },
        {
          "sourceId": 11801335,
          "sourceType": "datasetVersion",
          "datasetId": 7411169
        }
      ],
      "dockerImageVersionId": 31011,
      "isInternetEnabled": true,
      "language": "python",
      "sourceType": "notebook",
      "isGpuEnabled": true
    },
    "colab": {
      "provenance": [],
      "gpuType": "T4"
    },
    "accelerator": "GPU",
    "widgets": {
      "application/vnd.jupyter.widget-state+json": {
        "a076d7c348444266a9da6366aa92b136": {
          "model_module": "@jupyter-widgets/controls",
          "model_name": "HBoxModel",
          "model_module_version": "1.5.0",
          "state": {
            "_dom_classes": [],
            "_model_module": "@jupyter-widgets/controls",
            "_model_module_version": "1.5.0",
            "_model_name": "HBoxModel",
            "_view_count": null,
            "_view_module": "@jupyter-widgets/controls",
            "_view_module_version": "1.5.0",
            "_view_name": "HBoxView",
            "box_style": "",
            "children": [
              "IPY_MODEL_d64c709f8774418688a3cf03a0ce1607",
              "IPY_MODEL_b03695b853c248cdabce91aa1f7412d7",
              "IPY_MODEL_eedbc68d685a4b4fb38f7185516d2dc3"
            ],
            "layout": "IPY_MODEL_e1c52d1104f14fa9b99ce7205aea0622"
          }
        },
        "d64c709f8774418688a3cf03a0ce1607": {
          "model_module": "@jupyter-widgets/controls",
          "model_name": "HTMLModel",
          "model_module_version": "1.5.0",
          "state": {
            "_dom_classes": [],
            "_model_module": "@jupyter-widgets/controls",
            "_model_module_version": "1.5.0",
            "_model_name": "HTMLModel",
            "_view_count": null,
            "_view_module": "@jupyter-widgets/controls",
            "_view_module_version": "1.5.0",
            "_view_name": "HTMLView",
            "description": "",
            "description_tooltip": null,
            "layout": "IPY_MODEL_8136722116144e4aab318ade2a882753",
            "placeholder": "​",
            "style": "IPY_MODEL_2cb6d61c97b64dee911da3ffb66c3f16",
            "value": "Map: 100%"
          }
        },
        "b03695b853c248cdabce91aa1f7412d7": {
          "model_module": "@jupyter-widgets/controls",
          "model_name": "FloatProgressModel",
          "model_module_version": "1.5.0",
          "state": {
            "_dom_classes": [],
            "_model_module": "@jupyter-widgets/controls",
            "_model_module_version": "1.5.0",
            "_model_name": "FloatProgressModel",
            "_view_count": null,
            "_view_module": "@jupyter-widgets/controls",
            "_view_module_version": "1.5.0",
            "_view_name": "ProgressView",
            "bar_style": "success",
            "description": "",
            "description_tooltip": null,
            "layout": "IPY_MODEL_a936374a260f4a25969a02081319dec4",
            "max": 5000,
            "min": 0,
            "orientation": "horizontal",
            "style": "IPY_MODEL_98ec2c727d194ecb80a942435397427c",
            "value": 5000
          }
        },
        "eedbc68d685a4b4fb38f7185516d2dc3": {
          "model_module": "@jupyter-widgets/controls",
          "model_name": "HTMLModel",
          "model_module_version": "1.5.0",
          "state": {
            "_dom_classes": [],
            "_model_module": "@jupyter-widgets/controls",
            "_model_module_version": "1.5.0",
            "_model_name": "HTMLModel",
            "_view_count": null,
            "_view_module": "@jupyter-widgets/controls",
            "_view_module_version": "1.5.0",
            "_view_name": "HTMLView",
            "description": "",
            "description_tooltip": null,
            "layout": "IPY_MODEL_b99d883b0f624b30a42c62676d7eb959",
            "placeholder": "​",
            "style": "IPY_MODEL_296f26f755344524acd809fbf4982263",
            "value": " 5000/5000 [00:06&lt;00:00, 769.00 examples/s]"
          }
        },
        "e1c52d1104f14fa9b99ce7205aea0622": {
          "model_module": "@jupyter-widgets/base",
          "model_name": "LayoutModel",
          "model_module_version": "1.2.0",
          "state": {
            "_model_module": "@jupyter-widgets/base",
            "_model_module_version": "1.2.0",
            "_model_name": "LayoutModel",
            "_view_count": null,
            "_view_module": "@jupyter-widgets/base",
            "_view_module_version": "1.2.0",
            "_view_name": "LayoutView",
            "align_content": null,
            "align_items": null,
            "align_self": null,
            "border": null,
            "bottom": null,
            "display": null,
            "flex": null,
            "flex_flow": null,
            "grid_area": null,
            "grid_auto_columns": null,
            "grid_auto_flow": null,
            "grid_auto_rows": null,
            "grid_column": null,
            "grid_gap": null,
            "grid_row": null,
            "grid_template_areas": null,
            "grid_template_columns": null,
            "grid_template_rows": null,
            "height": null,
            "justify_content": null,
            "justify_items": null,
            "left": null,
            "margin": null,
            "max_height": null,
            "max_width": null,
            "min_height": null,
            "min_width": null,
            "object_fit": null,
            "object_position": null,
            "order": null,
            "overflow": null,
            "overflow_x": null,
            "overflow_y": null,
            "padding": null,
            "right": null,
            "top": null,
            "visibility": null,
            "width": null
          }
        },
        "8136722116144e4aab318ade2a882753": {
          "model_module": "@jupyter-widgets/base",
          "model_name": "LayoutModel",
          "model_module_version": "1.2.0",
          "state": {
            "_model_module": "@jupyter-widgets/base",
            "_model_module_version": "1.2.0",
            "_model_name": "LayoutModel",
            "_view_count": null,
            "_view_module": "@jupyter-widgets/base",
            "_view_module_version": "1.2.0",
            "_view_name": "LayoutView",
            "align_content": null,
            "align_items": null,
            "align_self": null,
            "border": null,
            "bottom": null,
            "display": null,
            "flex": null,
            "flex_flow": null,
            "grid_area": null,
            "grid_auto_columns": null,
            "grid_auto_flow": null,
            "grid_auto_rows": null,
            "grid_column": null,
            "grid_gap": null,
            "grid_row": null,
            "grid_template_areas": null,
            "grid_template_columns": null,
            "grid_template_rows": null,
            "height": null,
            "justify_content": null,
            "justify_items": null,
            "left": null,
            "margin": null,
            "max_height": null,
            "max_width": null,
            "min_height": null,
            "min_width": null,
            "object_fit": null,
            "object_position": null,
            "order": null,
            "overflow": null,
            "overflow_x": null,
            "overflow_y": null,
            "padding": null,
            "right": null,
            "top": null,
            "visibility": null,
            "width": null
          }
        },
        "2cb6d61c97b64dee911da3ffb66c3f16": {
          "model_module": "@jupyter-widgets/controls",
          "model_name": "DescriptionStyleModel",
          "model_module_version": "1.5.0",
          "state": {
            "_model_module": "@jupyter-widgets/controls",
            "_model_module_version": "1.5.0",
            "_model_name": "DescriptionStyleModel",
            "_view_count": null,
            "_view_module": "@jupyter-widgets/base",
            "_view_module_version": "1.2.0",
            "_view_name": "StyleView",
            "description_width": ""
          }
        },
        "a936374a260f4a25969a02081319dec4": {
          "model_module": "@jupyter-widgets/base",
          "model_name": "LayoutModel",
          "model_module_version": "1.2.0",
          "state": {
            "_model_module": "@jupyter-widgets/base",
            "_model_module_version": "1.2.0",
            "_model_name": "LayoutModel",
            "_view_count": null,
            "_view_module": "@jupyter-widgets/base",
            "_view_module_version": "1.2.0",
            "_view_name": "LayoutView",
            "align_content": null,
            "align_items": null,
            "align_self": null,
            "border": null,
            "bottom": null,
            "display": null,
            "flex": null,
            "flex_flow": null,
            "grid_area": null,
            "grid_auto_columns": null,
            "grid_auto_flow": null,
            "grid_auto_rows": null,
            "grid_column": null,
            "grid_gap": null,
            "grid_row": null,
            "grid_template_areas": null,
            "grid_template_columns": null,
            "grid_template_rows": null,
            "height": null,
            "justify_content": null,
            "justify_items": null,
            "left": null,
            "margin": null,
            "max_height": null,
            "max_width": null,
            "min_height": null,
            "min_width": null,
            "object_fit": null,
            "object_position": null,
            "order": null,
            "overflow": null,
            "overflow_x": null,
            "overflow_y": null,
            "padding": null,
            "right": null,
            "top": null,
            "visibility": null,
            "width": null
          }
        },
        "98ec2c727d194ecb80a942435397427c": {
          "model_module": "@jupyter-widgets/controls",
          "model_name": "ProgressStyleModel",
          "model_module_version": "1.5.0",
          "state": {
            "_model_module": "@jupyter-widgets/controls",
            "_model_module_version": "1.5.0",
            "_model_name": "ProgressStyleModel",
            "_view_count": null,
            "_view_module": "@jupyter-widgets/base",
            "_view_module_version": "1.2.0",
            "_view_name": "StyleView",
            "bar_color": null,
            "description_width": ""
          }
        },
        "b99d883b0f624b30a42c62676d7eb959": {
          "model_module": "@jupyter-widgets/base",
          "model_name": "LayoutModel",
          "model_module_version": "1.2.0",
          "state": {
            "_model_module": "@jupyter-widgets/base",
            "_model_module_version": "1.2.0",
            "_model_name": "LayoutModel",
            "_view_count": null,
            "_view_module": "@jupyter-widgets/base",
            "_view_module_version": "1.2.0",
            "_view_name": "LayoutView",
            "align_content": null,
            "align_items": null,
            "align_self": null,
            "border": null,
            "bottom": null,
            "display": null,
            "flex": null,
            "flex_flow": null,
            "grid_area": null,
            "grid_auto_columns": null,
            "grid_auto_flow": null,
            "grid_auto_rows": null,
            "grid_column": null,
            "grid_gap": null,
            "grid_row": null,
            "grid_template_areas": null,
            "grid_template_columns": null,
            "grid_template_rows": null,
            "height": null,
            "justify_content": null,
            "justify_items": null,
            "left": null,
            "margin": null,
            "max_height": null,
            "max_width": null,
            "min_height": null,
            "min_width": null,
            "object_fit": null,
            "object_position": null,
            "order": null,
            "overflow": null,
            "overflow_x": null,
            "overflow_y": null,
            "padding": null,
            "right": null,
            "top": null,
            "visibility": null,
            "width": null
          }
        },
        "296f26f755344524acd809fbf4982263": {
          "model_module": "@jupyter-widgets/controls",
          "model_name": "DescriptionStyleModel",
          "model_module_version": "1.5.0",
          "state": {
            "_model_module": "@jupyter-widgets/controls",
            "_model_module_version": "1.5.0",
            "_model_name": "DescriptionStyleModel",
            "_view_count": null,
            "_view_module": "@jupyter-widgets/base",
            "_view_module_version": "1.2.0",
            "_view_name": "StyleView",
            "description_width": ""
          }
        },
        "59d1a4ba9b21424189ca2edd6e588b60": {
          "model_module": "@jupyter-widgets/controls",
          "model_name": "HBoxModel",
          "model_module_version": "1.5.0",
          "state": {
            "_dom_classes": [],
            "_model_module": "@jupyter-widgets/controls",
            "_model_module_version": "1.5.0",
            "_model_name": "HBoxModel",
            "_view_count": null,
            "_view_module": "@jupyter-widgets/controls",
            "_view_module_version": "1.5.0",
            "_view_name": "HBoxView",
            "box_style": "",
            "children": [
              "IPY_MODEL_dfd31f784c504ec8a2aef29efbbd6006",
              "IPY_MODEL_b925ff0523d046fe9bb36dcd068f5fbf",
              "IPY_MODEL_8080d26cca304360b7ebd27eef7ed6a3"
            ],
            "layout": "IPY_MODEL_43cf857180b34169b9a39172aad1d537"
          }
        },
        "dfd31f784c504ec8a2aef29efbbd6006": {
          "model_module": "@jupyter-widgets/controls",
          "model_name": "HTMLModel",
          "model_module_version": "1.5.0",
          "state": {
            "_dom_classes": [],
            "_model_module": "@jupyter-widgets/controls",
            "_model_module_version": "1.5.0",
            "_model_name": "HTMLModel",
            "_view_count": null,
            "_view_module": "@jupyter-widgets/controls",
            "_view_module_version": "1.5.0",
            "_view_name": "HTMLView",
            "description": "",
            "description_tooltip": null,
            "layout": "IPY_MODEL_a687bfc810a042f093507633ef9a195d",
            "placeholder": "​",
            "style": "IPY_MODEL_bc1b644eaf4f44968e0f904b3e329ed2",
            "value": "Map: 100%"
          }
        },
        "b925ff0523d046fe9bb36dcd068f5fbf": {
          "model_module": "@jupyter-widgets/controls",
          "model_name": "FloatProgressModel",
          "model_module_version": "1.5.0",
          "state": {
            "_dom_classes": [],
            "_model_module": "@jupyter-widgets/controls",
            "_model_module_version": "1.5.0",
            "_model_name": "FloatProgressModel",
            "_view_count": null,
            "_view_module": "@jupyter-widgets/controls",
            "_view_module_version": "1.5.0",
            "_view_name": "ProgressView",
            "bar_style": "success",
            "description": "",
            "description_tooltip": null,
            "layout": "IPY_MODEL_a86217bf1577483fae4716afebe310fe",
            "max": 5000,
            "min": 0,
            "orientation": "horizontal",
            "style": "IPY_MODEL_04ce1fe15df24d2e97dfaa38dee4c945",
            "value": 5000
          }
        },
        "8080d26cca304360b7ebd27eef7ed6a3": {
          "model_module": "@jupyter-widgets/controls",
          "model_name": "HTMLModel",
          "model_module_version": "1.5.0",
          "state": {
            "_dom_classes": [],
            "_model_module": "@jupyter-widgets/controls",
            "_model_module_version": "1.5.0",
            "_model_name": "HTMLModel",
            "_view_count": null,
            "_view_module": "@jupyter-widgets/controls",
            "_view_module_version": "1.5.0",
            "_view_name": "HTMLView",
            "description": "",
            "description_tooltip": null,
            "layout": "IPY_MODEL_0f45ae1a1249460c96f11d7b5259fb39",
            "placeholder": "​",
            "style": "IPY_MODEL_f9f04d50e4df43e6bdebba587e7aa869",
            "value": " 5000/5000 [00:04&lt;00:00, 1016.94 examples/s]"
          }
        },
        "43cf857180b34169b9a39172aad1d537": {
          "model_module": "@jupyter-widgets/base",
          "model_name": "LayoutModel",
          "model_module_version": "1.2.0",
          "state": {
            "_model_module": "@jupyter-widgets/base",
            "_model_module_version": "1.2.0",
            "_model_name": "LayoutModel",
            "_view_count": null,
            "_view_module": "@jupyter-widgets/base",
            "_view_module_version": "1.2.0",
            "_view_name": "LayoutView",
            "align_content": null,
            "align_items": null,
            "align_self": null,
            "border": null,
            "bottom": null,
            "display": null,
            "flex": null,
            "flex_flow": null,
            "grid_area": null,
            "grid_auto_columns": null,
            "grid_auto_flow": null,
            "grid_auto_rows": null,
            "grid_column": null,
            "grid_gap": null,
            "grid_row": null,
            "grid_template_areas": null,
            "grid_template_columns": null,
            "grid_template_rows": null,
            "height": null,
            "justify_content": null,
            "justify_items": null,
            "left": null,
            "margin": null,
            "max_height": null,
            "max_width": null,
            "min_height": null,
            "min_width": null,
            "object_fit": null,
            "object_position": null,
            "order": null,
            "overflow": null,
            "overflow_x": null,
            "overflow_y": null,
            "padding": null,
            "right": null,
            "top": null,
            "visibility": null,
            "width": null
          }
        },
        "a687bfc810a042f093507633ef9a195d": {
          "model_module": "@jupyter-widgets/base",
          "model_name": "LayoutModel",
          "model_module_version": "1.2.0",
          "state": {
            "_model_module": "@jupyter-widgets/base",
            "_model_module_version": "1.2.0",
            "_model_name": "LayoutModel",
            "_view_count": null,
            "_view_module": "@jupyter-widgets/base",
            "_view_module_version": "1.2.0",
            "_view_name": "LayoutView",
            "align_content": null,
            "align_items": null,
            "align_self": null,
            "border": null,
            "bottom": null,
            "display": null,
            "flex": null,
            "flex_flow": null,
            "grid_area": null,
            "grid_auto_columns": null,
            "grid_auto_flow": null,
            "grid_auto_rows": null,
            "grid_column": null,
            "grid_gap": null,
            "grid_row": null,
            "grid_template_areas": null,
            "grid_template_columns": null,
            "grid_template_rows": null,
            "height": null,
            "justify_content": null,
            "justify_items": null,
            "left": null,
            "margin": null,
            "max_height": null,
            "max_width": null,
            "min_height": null,
            "min_width": null,
            "object_fit": null,
            "object_position": null,
            "order": null,
            "overflow": null,
            "overflow_x": null,
            "overflow_y": null,
            "padding": null,
            "right": null,
            "top": null,
            "visibility": null,
            "width": null
          }
        },
        "bc1b644eaf4f44968e0f904b3e329ed2": {
          "model_module": "@jupyter-widgets/controls",
          "model_name": "DescriptionStyleModel",
          "model_module_version": "1.5.0",
          "state": {
            "_model_module": "@jupyter-widgets/controls",
            "_model_module_version": "1.5.0",
            "_model_name": "DescriptionStyleModel",
            "_view_count": null,
            "_view_module": "@jupyter-widgets/base",
            "_view_module_version": "1.2.0",
            "_view_name": "StyleView",
            "description_width": ""
          }
        },
        "a86217bf1577483fae4716afebe310fe": {
          "model_module": "@jupyter-widgets/base",
          "model_name": "LayoutModel",
          "model_module_version": "1.2.0",
          "state": {
            "_model_module": "@jupyter-widgets/base",
            "_model_module_version": "1.2.0",
            "_model_name": "LayoutModel",
            "_view_count": null,
            "_view_module": "@jupyter-widgets/base",
            "_view_module_version": "1.2.0",
            "_view_name": "LayoutView",
            "align_content": null,
            "align_items": null,
            "align_self": null,
            "border": null,
            "bottom": null,
            "display": null,
            "flex": null,
            "flex_flow": null,
            "grid_area": null,
            "grid_auto_columns": null,
            "grid_auto_flow": null,
            "grid_auto_rows": null,
            "grid_column": null,
            "grid_gap": null,
            "grid_row": null,
            "grid_template_areas": null,
            "grid_template_columns": null,
            "grid_template_rows": null,
            "height": null,
            "justify_content": null,
            "justify_items": null,
            "left": null,
            "margin": null,
            "max_height": null,
            "max_width": null,
            "min_height": null,
            "min_width": null,
            "object_fit": null,
            "object_position": null,
            "order": null,
            "overflow": null,
            "overflow_x": null,
            "overflow_y": null,
            "padding": null,
            "right": null,
            "top": null,
            "visibility": null,
            "width": null
          }
        },
        "04ce1fe15df24d2e97dfaa38dee4c945": {
          "model_module": "@jupyter-widgets/controls",
          "model_name": "ProgressStyleModel",
          "model_module_version": "1.5.0",
          "state": {
            "_model_module": "@jupyter-widgets/controls",
            "_model_module_version": "1.5.0",
            "_model_name": "ProgressStyleModel",
            "_view_count": null,
            "_view_module": "@jupyter-widgets/base",
            "_view_module_version": "1.2.0",
            "_view_name": "StyleView",
            "bar_color": null,
            "description_width": ""
          }
        },
        "0f45ae1a1249460c96f11d7b5259fb39": {
          "model_module": "@jupyter-widgets/base",
          "model_name": "LayoutModel",
          "model_module_version": "1.2.0",
          "state": {
            "_model_module": "@jupyter-widgets/base",
            "_model_module_version": "1.2.0",
            "_model_name": "LayoutModel",
            "_view_count": null,
            "_view_module": "@jupyter-widgets/base",
            "_view_module_version": "1.2.0",
            "_view_name": "LayoutView",
            "align_content": null,
            "align_items": null,
            "align_self": null,
            "border": null,
            "bottom": null,
            "display": null,
            "flex": null,
            "flex_flow": null,
            "grid_area": null,
            "grid_auto_columns": null,
            "grid_auto_flow": null,
            "grid_auto_rows": null,
            "grid_column": null,
            "grid_gap": null,
            "grid_row": null,
            "grid_template_areas": null,
            "grid_template_columns": null,
            "grid_template_rows": null,
            "height": null,
            "justify_content": null,
            "justify_items": null,
            "left": null,
            "margin": null,
            "max_height": null,
            "max_width": null,
            "min_height": null,
            "min_width": null,
            "object_fit": null,
            "object_position": null,
            "order": null,
            "overflow": null,
            "overflow_x": null,
            "overflow_y": null,
            "padding": null,
            "right": null,
            "top": null,
            "visibility": null,
            "width": null
          }
        },
        "f9f04d50e4df43e6bdebba587e7aa869": {
          "model_module": "@jupyter-widgets/controls",
          "model_name": "DescriptionStyleModel",
          "model_module_version": "1.5.0",
          "state": {
            "_model_module": "@jupyter-widgets/controls",
            "_model_module_version": "1.5.0",
            "_model_name": "DescriptionStyleModel",
            "_view_count": null,
            "_view_module": "@jupyter-widgets/base",
            "_view_module_version": "1.2.0",
            "_view_name": "StyleView",
            "description_width": ""
          }
        },
        "fe5cf36cd40f4656bf41fc6872dec647": {
          "model_module": "@jupyter-widgets/controls",
          "model_name": "HBoxModel",
          "model_module_version": "1.5.0",
          "state": {
            "_dom_classes": [],
            "_model_module": "@jupyter-widgets/controls",
            "_model_module_version": "1.5.0",
            "_model_name": "HBoxModel",
            "_view_count": null,
            "_view_module": "@jupyter-widgets/controls",
            "_view_module_version": "1.5.0",
            "_view_name": "HBoxView",
            "box_style": "",
            "children": [
              "IPY_MODEL_a4deabb3d001438ebebc0c76a432f01a",
              "IPY_MODEL_05f57f62a8654390bf77912a65f37b6f",
              "IPY_MODEL_e2678826099d4aacac726b3f79c05570"
            ],
            "layout": "IPY_MODEL_e30f307763c344248e31d949ecd62089"
          }
        },
        "a4deabb3d001438ebebc0c76a432f01a": {
          "model_module": "@jupyter-widgets/controls",
          "model_name": "HTMLModel",
          "model_module_version": "1.5.0",
          "state": {
            "_dom_classes": [],
            "_model_module": "@jupyter-widgets/controls",
            "_model_module_version": "1.5.0",
            "_model_name": "HTMLModel",
            "_view_count": null,
            "_view_module": "@jupyter-widgets/controls",
            "_view_module_version": "1.5.0",
            "_view_name": "HTMLView",
            "description": "",
            "description_tooltip": null,
            "layout": "IPY_MODEL_d4ec242697a942ee800402b17ed75f8d",
            "placeholder": "​",
            "style": "IPY_MODEL_a3593870eb3642eaa36084a1c52db827",
            "value": "Map: 100%"
          }
        },
        "05f57f62a8654390bf77912a65f37b6f": {
          "model_module": "@jupyter-widgets/controls",
          "model_name": "FloatProgressModel",
          "model_module_version": "1.5.0",
          "state": {
            "_dom_classes": [],
            "_model_module": "@jupyter-widgets/controls",
            "_model_module_version": "1.5.0",
            "_model_name": "FloatProgressModel",
            "_view_count": null,
            "_view_module": "@jupyter-widgets/controls",
            "_view_module_version": "1.5.0",
            "_view_name": "ProgressView",
            "bar_style": "success",
            "description": "",
            "description_tooltip": null,
            "layout": "IPY_MODEL_ad298e437c194bcf81de984026d9ac3b",
            "max": 5000,
            "min": 0,
            "orientation": "horizontal",
            "style": "IPY_MODEL_faa666a8a7e04b32a1ae66e01f9fe8a1",
            "value": 5000
          }
        },
        "e2678826099d4aacac726b3f79c05570": {
          "model_module": "@jupyter-widgets/controls",
          "model_name": "HTMLModel",
          "model_module_version": "1.5.0",
          "state": {
            "_dom_classes": [],
            "_model_module": "@jupyter-widgets/controls",
            "_model_module_version": "1.5.0",
            "_model_name": "HTMLModel",
            "_view_count": null,
            "_view_module": "@jupyter-widgets/controls",
            "_view_module_version": "1.5.0",
            "_view_name": "HTMLView",
            "description": "",
            "description_tooltip": null,
            "layout": "IPY_MODEL_5af35015d7874b68b6a227dc448e5340",
            "placeholder": "​",
            "style": "IPY_MODEL_1076f1a3a08a473e9bffd738d4ac9ee0",
            "value": " 5000/5000 [00:06&lt;00:00, 779.56 examples/s]"
          }
        },
        "e30f307763c344248e31d949ecd62089": {
          "model_module": "@jupyter-widgets/base",
          "model_name": "LayoutModel",
          "model_module_version": "1.2.0",
          "state": {
            "_model_module": "@jupyter-widgets/base",
            "_model_module_version": "1.2.0",
            "_model_name": "LayoutModel",
            "_view_count": null,
            "_view_module": "@jupyter-widgets/base",
            "_view_module_version": "1.2.0",
            "_view_name": "LayoutView",
            "align_content": null,
            "align_items": null,
            "align_self": null,
            "border": null,
            "bottom": null,
            "display": null,
            "flex": null,
            "flex_flow": null,
            "grid_area": null,
            "grid_auto_columns": null,
            "grid_auto_flow": null,
            "grid_auto_rows": null,
            "grid_column": null,
            "grid_gap": null,
            "grid_row": null,
            "grid_template_areas": null,
            "grid_template_columns": null,
            "grid_template_rows": null,
            "height": null,
            "justify_content": null,
            "justify_items": null,
            "left": null,
            "margin": null,
            "max_height": null,
            "max_width": null,
            "min_height": null,
            "min_width": null,
            "object_fit": null,
            "object_position": null,
            "order": null,
            "overflow": null,
            "overflow_x": null,
            "overflow_y": null,
            "padding": null,
            "right": null,
            "top": null,
            "visibility": null,
            "width": null
          }
        },
        "d4ec242697a942ee800402b17ed75f8d": {
          "model_module": "@jupyter-widgets/base",
          "model_name": "LayoutModel",
          "model_module_version": "1.2.0",
          "state": {
            "_model_module": "@jupyter-widgets/base",
            "_model_module_version": "1.2.0",
            "_model_name": "LayoutModel",
            "_view_count": null,
            "_view_module": "@jupyter-widgets/base",
            "_view_module_version": "1.2.0",
            "_view_name": "LayoutView",
            "align_content": null,
            "align_items": null,
            "align_self": null,
            "border": null,
            "bottom": null,
            "display": null,
            "flex": null,
            "flex_flow": null,
            "grid_area": null,
            "grid_auto_columns": null,
            "grid_auto_flow": null,
            "grid_auto_rows": null,
            "grid_column": null,
            "grid_gap": null,
            "grid_row": null,
            "grid_template_areas": null,
            "grid_template_columns": null,
            "grid_template_rows": null,
            "height": null,
            "justify_content": null,
            "justify_items": null,
            "left": null,
            "margin": null,
            "max_height": null,
            "max_width": null,
            "min_height": null,
            "min_width": null,
            "object_fit": null,
            "object_position": null,
            "order": null,
            "overflow": null,
            "overflow_x": null,
            "overflow_y": null,
            "padding": null,
            "right": null,
            "top": null,
            "visibility": null,
            "width": null
          }
        },
        "a3593870eb3642eaa36084a1c52db827": {
          "model_module": "@jupyter-widgets/controls",
          "model_name": "DescriptionStyleModel",
          "model_module_version": "1.5.0",
          "state": {
            "_model_module": "@jupyter-widgets/controls",
            "_model_module_version": "1.5.0",
            "_model_name": "DescriptionStyleModel",
            "_view_count": null,
            "_view_module": "@jupyter-widgets/base",
            "_view_module_version": "1.2.0",
            "_view_name": "StyleView",
            "description_width": ""
          }
        },
        "ad298e437c194bcf81de984026d9ac3b": {
          "model_module": "@jupyter-widgets/base",
          "model_name": "LayoutModel",
          "model_module_version": "1.2.0",
          "state": {
            "_model_module": "@jupyter-widgets/base",
            "_model_module_version": "1.2.0",
            "_model_name": "LayoutModel",
            "_view_count": null,
            "_view_module": "@jupyter-widgets/base",
            "_view_module_version": "1.2.0",
            "_view_name": "LayoutView",
            "align_content": null,
            "align_items": null,
            "align_self": null,
            "border": null,
            "bottom": null,
            "display": null,
            "flex": null,
            "flex_flow": null,
            "grid_area": null,
            "grid_auto_columns": null,
            "grid_auto_flow": null,
            "grid_auto_rows": null,
            "grid_column": null,
            "grid_gap": null,
            "grid_row": null,
            "grid_template_areas": null,
            "grid_template_columns": null,
            "grid_template_rows": null,
            "height": null,
            "justify_content": null,
            "justify_items": null,
            "left": null,
            "margin": null,
            "max_height": null,
            "max_width": null,
            "min_height": null,
            "min_width": null,
            "object_fit": null,
            "object_position": null,
            "order": null,
            "overflow": null,
            "overflow_x": null,
            "overflow_y": null,
            "padding": null,
            "right": null,
            "top": null,
            "visibility": null,
            "width": null
          }
        },
        "faa666a8a7e04b32a1ae66e01f9fe8a1": {
          "model_module": "@jupyter-widgets/controls",
          "model_name": "ProgressStyleModel",
          "model_module_version": "1.5.0",
          "state": {
            "_model_module": "@jupyter-widgets/controls",
            "_model_module_version": "1.5.0",
            "_model_name": "ProgressStyleModel",
            "_view_count": null,
            "_view_module": "@jupyter-widgets/base",
            "_view_module_version": "1.2.0",
            "_view_name": "StyleView",
            "bar_color": null,
            "description_width": ""
          }
        },
        "5af35015d7874b68b6a227dc448e5340": {
          "model_module": "@jupyter-widgets/base",
          "model_name": "LayoutModel",
          "model_module_version": "1.2.0",
          "state": {
            "_model_module": "@jupyter-widgets/base",
            "_model_module_version": "1.2.0",
            "_model_name": "LayoutModel",
            "_view_count": null,
            "_view_module": "@jupyter-widgets/base",
            "_view_module_version": "1.2.0",
            "_view_name": "LayoutView",
            "align_content": null,
            "align_items": null,
            "align_self": null,
            "border": null,
            "bottom": null,
            "display": null,
            "flex": null,
            "flex_flow": null,
            "grid_area": null,
            "grid_auto_columns": null,
            "grid_auto_flow": null,
            "grid_auto_rows": null,
            "grid_column": null,
            "grid_gap": null,
            "grid_row": null,
            "grid_template_areas": null,
            "grid_template_columns": null,
            "grid_template_rows": null,
            "height": null,
            "justify_content": null,
            "justify_items": null,
            "left": null,
            "margin": null,
            "max_height": null,
            "max_width": null,
            "min_height": null,
            "min_width": null,
            "object_fit": null,
            "object_position": null,
            "order": null,
            "overflow": null,
            "overflow_x": null,
            "overflow_y": null,
            "padding": null,
            "right": null,
            "top": null,
            "visibility": null,
            "width": null
          }
        },
        "1076f1a3a08a473e9bffd738d4ac9ee0": {
          "model_module": "@jupyter-widgets/controls",
          "model_name": "DescriptionStyleModel",
          "model_module_version": "1.5.0",
          "state": {
            "_model_module": "@jupyter-widgets/controls",
            "_model_module_version": "1.5.0",
            "_model_name": "DescriptionStyleModel",
            "_view_count": null,
            "_view_module": "@jupyter-widgets/base",
            "_view_module_version": "1.2.0",
            "_view_name": "StyleView",
            "description_width": ""
          }
        }
      }
    }
  },
  "nbformat_minor": 0,
  "nbformat": 4,
  "cells": [
    {
      "cell_type": "code",
      "source": [
        "import pandas as pd\n",
        "import numpy as np\n",
        "import random\n",
        "import string\n",
        "import torch\n",
        "import matplotlib.pyplot as plt\n",
        "import seaborn as sns\n",
        "import pandas as pd\n",
        "from IPython.display import display\n",
        "from datasets import Dataset\n",
        "from transformers import (\n",
        "    T5Tokenizer,\n",
        "    T5ForConditionalGeneration,\n",
        "    Trainer,\n",
        "    TrainingArguments,\n",
        "    DataCollatorForSeq2Seq,\n",
        "    EarlyStoppingCallback\n",
        ")\n",
        "from transformers import TrainingArguments\n",
        "from sklearn.metrics import accuracy_score\n",
        "from nltk.translate.bleu_score import sentence_bleu, SmoothingFunction\n",
        "import nltk\n",
        "import evaluate\n",
        "from jiwer import wer\n",
        "from nltk.translate.bleu_score import SmoothingFunction\n",
        "from difflib import SequenceMatcher\n",
        "import torch\n",
        "\n",
        "nltk.download('punkt')"
      ],
      "metadata": {
        "colab": {
          "base_uri": "https://localhost:8080/"
        },
        "id": "a4TIt76gwckd",
        "outputId": "1f432768-6e08-4ca4-b4ff-8f3ded8f065a",
        "trusted": true,
        "execution": {
          "iopub.status.busy": "2025-05-13T20:48:42.539862Z",
          "iopub.execute_input": "2025-05-13T20:48:42.540444Z",
          "iopub.status.idle": "2025-05-13T20:48:42.573361Z",
          "shell.execute_reply.started": "2025-05-13T20:48:42.540416Z",
          "shell.execute_reply": "2025-05-13T20:48:42.572586Z"
        }
      },
      "outputs": [
        {
          "name": "stderr",
          "text": "[nltk_data] Downloading package punkt to /usr/share/nltk_data...\n[nltk_data]   Package punkt is already up-to-date!\n",
          "output_type": "stream"
        },
        {
          "execution_count": 12,
          "output_type": "execute_result",
          "data": {
            "text/plain": "True"
          },
          "metadata": {}
        }
      ],
      "execution_count": null
    },
    {
      "cell_type": "code",
      "source": [
        "df = pd.read_csv('/kaggle/input/tune300/tune.tsv', sep='\\t', header=None)\n",
        "df.head()"
      ],
      "metadata": {
        "colab": {
          "base_uri": "https://localhost:8080/",
          "height": 204
        },
        "id": "7jXf0TrHRAoc",
        "outputId": "be9fdc8a-ae85-4f9f-e6a0-7c333eb803ed",
        "trusted": true,
        "execution": {
          "iopub.status.busy": "2025-05-13T20:48:50.711184Z",
          "iopub.execute_input": "2025-05-13T20:48:50.711885Z",
          "iopub.status.idle": "2025-05-13T20:48:50.812200Z",
          "shell.execute_reply.started": "2025-05-13T20:48:50.711862Z",
          "shell.execute_reply": "2025-05-13T20:48:50.811482Z"
        }
      },
      "outputs": [
        {
          "execution_count": 13,
          "output_type": "execute_result",
          "data": {
            "text/plain": "                                                   0  \\\n0  ' ( 1990 ) was the second sequel to appear , t...   \n1  ' Maolain ' said to be diminutive of ' bald ' ...   \n2  ' Skycruiser ' seating is available on the rem...   \n3  ' This group of nobles had supported the Engli...   \n4  ' was a 14 - issue ongoing series by Devil 's ...   \n\n                                                   1  \n0  ' ( 1990 ) was the second sequel to appear . <...  \n1  ' Maolain ' said to be diminuative of ' bald '...  \n2  ' Skycruiser ' seating is available on Boeing ...  \n3  ' This group of nobles had supported the Engli...  \n4  ' was a fourteen issue ongoing series by Devil...  ",
            "text/html": "<div>\n<style scoped>\n    .dataframe tbody tr th:only-of-type {\n        vertical-align: middle;\n    }\n\n    .dataframe tbody tr th {\n        vertical-align: top;\n    }\n\n    .dataframe thead th {\n        text-align: right;\n    }\n</style>\n<table border=\"1\" class=\"dataframe\">\n  <thead>\n    <tr style=\"text-align: right;\">\n      <th></th>\n      <th>0</th>\n      <th>1</th>\n    </tr>\n  </thead>\n  <tbody>\n    <tr>\n      <th>0</th>\n      <td>' ( 1990 ) was the second sequel to appear , t...</td>\n      <td>' ( 1990 ) was the second sequel to appear . &lt;...</td>\n    </tr>\n    <tr>\n      <th>1</th>\n      <td>' Maolain ' said to be diminutive of ' bald ' ...</td>\n      <td>' Maolain ' said to be diminuative of ' bald '...</td>\n    </tr>\n    <tr>\n      <th>2</th>\n      <td>' Skycruiser ' seating is available on the rem...</td>\n      <td>' Skycruiser ' seating is available on Boeing ...</td>\n    </tr>\n    <tr>\n      <th>3</th>\n      <td>' This group of nobles had supported the Engli...</td>\n      <td>' This group of nobles had supported the Engli...</td>\n    </tr>\n    <tr>\n      <th>4</th>\n      <td>' was a 14 - issue ongoing series by Devil 's ...</td>\n      <td>' was a fourteen issue ongoing series by Devil...</td>\n    </tr>\n  </tbody>\n</table>\n</div>"
          },
          "metadata": {}
        }
      ],
      "execution_count": null
    },
    {
      "cell_type": "code",
      "source": [
        "train_data = pd.read_csv('/kaggle/input/tune300/tune.tsv', sep='\\t', header=None,usecols=[0], names=['correct'])\n",
        "val_data = pd.read_csv('/kaggle/input/validation300/validation.tsv', sep='\\t', header=None,usecols=[0], names=['correct'])\n",
        "test_data = pd.read_csv('/kaggle/input/test300/test.tsv', sep='\\t', header=None,usecols=[0], names=['correct'])\n",
        "\n",
        "train_data.head(), val_data.head(), test_data.head()\n"
      ],
      "metadata": {
        "trusted": true,
        "execution": {
          "iopub.status.busy": "2025-05-13T20:49:14.239314Z",
          "iopub.execute_input": "2025-05-13T20:49:14.240056Z",
          "iopub.status.idle": "2025-05-13T20:49:14.388956Z",
          "shell.execute_reply.started": "2025-05-13T20:49:14.240036Z",
          "shell.execute_reply": "2025-05-13T20:49:14.388152Z"
        },
        "colab": {
          "base_uri": "https://localhost:8080/"
        },
        "id": "hwVBuH5InsEt",
        "outputId": "4ccf2972-7558-4433-8150-8ad21646332d"
      },
      "outputs": [
        {
          "execution_count": 15,
          "output_type": "execute_result",
          "data": {
            "text/plain": "(                                             correct\n 0  ' ( 1990 ) was the second sequel to appear , t...\n 1  ' Maolain ' said to be diminutive of ' bald ' ...\n 2  ' Skycruiser ' seating is available on the rem...\n 3  ' This group of nobles had supported the Engli...\n 4  ' was a 14 - issue ongoing series by Devil 's ...,\n                                              correct\n 0  ' Lauren Rose Crace ' , born 25th of May 1986 ...\n 1  '' A Living Library '' was Bonnie Sherk 's wor...\n 2  '' All Singing , All Dancing '' is the elevent...\n 3  '' Already Gone '' is a mid-tempo ballad in wh...\n 4  '' Bafana Bafana '' is a nickname given to the...,\n                                              correct\n 0  ' Bandolier - Budgie ' , a free iTunes app for...\n 1  ' Eden Black ' was grown from seed in the late...\n 2  ' Wilson should extend his stint on The Voice ...\n 3  '' '' New York Mining Disaster 1941 '' '' was ...\n 4  '' ADAPTOGENS : Herbs for Strength , Stamina ,...)"
          },
          "metadata": {}
        }
      ],
      "execution_count": null
    },
    {
      "cell_type": "code",
      "source": [
        "def introduce_typos(sentence, error_rate=0.10):\n",
        "    sentence = list(sentence)\n",
        "    num_typos = max(1, round(len(sentence) * error_rate))\n",
        "\n",
        "    for _ in range(num_typos):\n",
        "        action = random.choice(['replace', 'delete', 'swap', 'duplicate', 'insert', 'vowel_sub', 'consonant_sub'])\n",
        "        idx = random.randint(0, len(sentence) - 1)\n",
        "\n",
        "        if action == 'replace':\n",
        "            sentence[idx] = random.choice(string.ascii_lowercase)\n",
        "\n",
        "        elif action == 'delete' and len(sentence) > 1:\n",
        "            del sentence[idx]\n",
        "\n",
        "        elif action == 'swap' and idx < len(sentence) - 1:\n",
        "            sentence[idx], sentence[idx + 1] = sentence[idx + 1], sentence[idx]\n",
        "\n",
        "        elif action == 'duplicate':\n",
        "            sentence.insert(idx, sentence[idx])\n",
        "\n",
        "        elif action == 'insert':\n",
        "            sentence.insert(idx, random.choice(string.ascii_lowercase))\n",
        "\n",
        "        elif action == 'vowel_sub':\n",
        "            vowels = 'aeiou'\n",
        "            vowel_indices = [i for i, char in enumerate(sentence) if char in vowels]\n",
        "            if vowel_indices:\n",
        "                vi = random.choice(vowel_indices)\n",
        "                sentence[vi] = random.choice([v for v in vowels if v != sentence[vi]])\n",
        "\n",
        "        elif action == 'consonant_sub':\n",
        "            consonants = [c for c in string.ascii_lowercase if c not in 'aeiou']\n",
        "            consonant_indices = [i for i, char in enumerate(sentence) if char in consonants]\n",
        "            if consonant_indices:\n",
        "                ci = random.choice(consonant_indices)\n",
        "                sentence[ci] = random.choice([c for c in consonants if c != sentence[ci]])\n",
        "\n",
        "    return ''.join(sentence)"
      ],
      "metadata": {
        "trusted": true,
        "execution": {
          "iopub.status.busy": "2025-05-13T20:49:16.311959Z",
          "iopub.execute_input": "2025-05-13T20:49:16.312250Z",
          "iopub.status.idle": "2025-05-13T20:49:16.320865Z",
          "shell.execute_reply.started": "2025-05-13T20:49:16.312231Z",
          "shell.execute_reply": "2025-05-13T20:49:16.320244Z"
        },
        "id": "dkJDiVbGnsEt"
      },
      "outputs": [],
      "execution_count": null
    },
    {
      "cell_type": "code",
      "source": [
        "def prepare_data(df):\n",
        "    df['misspelled'] = df['correct'].apply(lambda x: introduce_typos(x))\n",
        "    df['correct'] = df['correct'].str.replace(r'<.*?>', '', regex=True)\n",
        "    df['misspelled'] = df['misspelled'].str.replace(r'<.*?>', '', regex=True)\n",
        "    return df[['misspelled', 'correct']]"
      ],
      "metadata": {
        "id": "WdKIdJCKRnz7",
        "trusted": true,
        "execution": {
          "iopub.status.busy": "2025-05-13T20:49:16.715195Z",
          "iopub.execute_input": "2025-05-13T20:49:16.715756Z",
          "iopub.status.idle": "2025-05-13T20:49:16.720264Z",
          "shell.execute_reply.started": "2025-05-13T20:49:16.715712Z",
          "shell.execute_reply": "2025-05-13T20:49:16.719372Z"
        }
      },
      "outputs": [],
      "execution_count": null
    },
    {
      "cell_type": "code",
      "source": [
        "train_data = prepare_data(train_data)\n",
        "val_data = prepare_data(val_data)\n",
        "test_data = prepare_data(test_data)\n",
        "\n",
        "print(\"Sample:\")\n",
        "display(train_data.sample(5))"
      ],
      "metadata": {
        "colab": {
          "base_uri": "https://localhost:8080/",
          "height": 221
        },
        "id": "zcMVMK7lR-p2",
        "outputId": "38d91ac0-c5fa-4070-f200-16a071a3bafd",
        "trusted": true,
        "execution": {
          "iopub.status.busy": "2025-05-13T20:49:18.401012Z",
          "iopub.execute_input": "2025-05-13T20:49:18.401625Z",
          "iopub.status.idle": "2025-05-13T20:49:21.378233Z",
          "shell.execute_reply.started": "2025-05-13T20:49:18.401601Z",
          "shell.execute_reply": "2025-05-13T20:49:21.377353Z"
        }
      },
      "outputs": [
        {
          "name": "stdout",
          "text": "Sample:\n",
          "output_type": "stream"
        },
        {
          "output_type": "display_data",
          "data": {
            "text/plain": "                                             misspelled  \\\n1931  I 1999 ,'' The ClokWorks '' on 12g hStyeet hda...   \n4658  This was Bakrer 's first oppeaarnce ags Edgar ...   \n1726  Hokart is a little perrturzyed when the gglowi...   \n2100  Inn past years  scudets hhave developed numegr...   \n2409  Jing Fang ( , 78j -- 37 BC ) , born Li Fangl  ...   \n\n                                                correct  \n1931  In 1999 , '' The ClockWorks '' on 12th Street ...  \n4658  This was Barker 's first appearance as Edgar R...  \n1726  Hokart is a little perturbed when the glowing ...  \n2100  In past years , students have developed numero...  \n2409  Jing Fang ( , 78 -- 37 BC ) , born Li Fang ( 李...  ",
            "text/html": "<div>\n<style scoped>\n    .dataframe tbody tr th:only-of-type {\n        vertical-align: middle;\n    }\n\n    .dataframe tbody tr th {\n        vertical-align: top;\n    }\n\n    .dataframe thead th {\n        text-align: right;\n    }\n</style>\n<table border=\"1\" class=\"dataframe\">\n  <thead>\n    <tr style=\"text-align: right;\">\n      <th></th>\n      <th>misspelled</th>\n      <th>correct</th>\n    </tr>\n  </thead>\n  <tbody>\n    <tr>\n      <th>1931</th>\n      <td>I 1999 ,'' The ClokWorks '' on 12g hStyeet hda...</td>\n      <td>In 1999 , '' The ClockWorks '' on 12th Street ...</td>\n    </tr>\n    <tr>\n      <th>4658</th>\n      <td>This was Bakrer 's first oppeaarnce ags Edgar ...</td>\n      <td>This was Barker 's first appearance as Edgar R...</td>\n    </tr>\n    <tr>\n      <th>1726</th>\n      <td>Hokart is a little perrturzyed when the gglowi...</td>\n      <td>Hokart is a little perturbed when the glowing ...</td>\n    </tr>\n    <tr>\n      <th>2100</th>\n      <td>Inn past years  scudets hhave developed numegr...</td>\n      <td>In past years , students have developed numero...</td>\n    </tr>\n    <tr>\n      <th>2409</th>\n      <td>Jing Fang ( , 78j -- 37 BC ) , born Li Fangl  ...</td>\n      <td>Jing Fang ( , 78 -- 37 BC ) , born Li Fang ( 李...</td>\n    </tr>\n  </tbody>\n</table>\n</div>"
          },
          "metadata": {}
        }
      ],
      "execution_count": null
    },
    {
      "cell_type": "code",
      "source": [
        "train_ds = Dataset.from_pandas(train_data)\n",
        "val_ds = Dataset.from_pandas(val_data)\n",
        "test_ds = Dataset.from_pandas(test_data)"
      ],
      "metadata": {
        "trusted": true,
        "execution": {
          "iopub.status.busy": "2025-05-13T20:49:21.379513Z",
          "iopub.execute_input": "2025-05-13T20:49:21.379926Z",
          "iopub.status.idle": "2025-05-13T20:49:21.421591Z",
          "shell.execute_reply.started": "2025-05-13T20:49:21.379898Z",
          "shell.execute_reply": "2025-05-13T20:49:21.421053Z"
        },
        "id": "WLEs0XBRnsEu"
      },
      "outputs": [],
      "execution_count": null
    },
    {
      "cell_type": "code",
      "source": [
        "tokenizer = T5Tokenizer.from_pretrained(\"t5-base\")"
      ],
      "metadata": {
        "colab": {
          "base_uri": "https://localhost:8080/",
          "referenced_widgets": [
            "e0b51e368f1c4e0e95e30c15bdffab5e",
            "07672b96c6114d4582e16e9a817d888a",
            "b65ee65108ea436d99023b6c1d85b23d"
          ]
        },
        "id": "JIxojPvJTp9L",
        "outputId": "0e61c1c1-1e4c-49c6-c386-dffa507ddcac",
        "trusted": true,
        "execution": {
          "iopub.status.busy": "2025-05-13T20:49:32.175061Z",
          "iopub.execute_input": "2025-05-13T20:49:32.175603Z",
          "iopub.status.idle": "2025-05-13T20:49:33.685432Z",
          "shell.execute_reply.started": "2025-05-13T20:49:32.175579Z",
          "shell.execute_reply": "2025-05-13T20:49:33.684857Z"
        }
      },
      "outputs": [
        {
          "output_type": "display_data",
          "data": {
            "text/plain": "spiece.model:   0%|          | 0.00/792k [00:00<?, ?B/s]",
            "application/vnd.jupyter.widget-view+json": {
              "version_major": 2,
              "version_minor": 0,
              "model_id": "e0b51e368f1c4e0e95e30c15bdffab5e"
            }
          },
          "metadata": {}
        },
        {
          "output_type": "display_data",
          "data": {
            "text/plain": "tokenizer.json:   0%|          | 0.00/1.39M [00:00<?, ?B/s]",
            "application/vnd.jupyter.widget-view+json": {
              "version_major": 2,
              "version_minor": 0,
              "model_id": "07672b96c6114d4582e16e9a817d888a"
            }
          },
          "metadata": {}
        },
        {
          "output_type": "display_data",
          "data": {
            "text/plain": "config.json:   0%|          | 0.00/1.21k [00:00<?, ?B/s]",
            "application/vnd.jupyter.widget-view+json": {
              "version_major": 2,
              "version_minor": 0,
              "model_id": "b65ee65108ea436d99023b6c1d85b23d"
            }
          },
          "metadata": {}
        },
        {
          "name": "stderr",
          "text": "You are using the default legacy behaviour of the <class 'transformers.models.t5.tokenization_t5.T5Tokenizer'>. This is expected, and simply means that the `legacy` (previous) behavior will be used so nothing changes for you. If you want to use the new behaviour, set `legacy=False`. This should only be set if you understand what it means, and thoroughly read the reason why this was added as explained in https://github.com/huggingface/transformers/pull/24565\n",
          "output_type": "stream"
        }
      ],
      "execution_count": null
    },
    {
      "cell_type": "code",
      "source": [
        "def preprocess_function(examples):\n",
        "    inputs = tokenizer(examples['misspelled'], max_length=128, truncation=True, padding=\"max_length\")\n",
        "    targets = tokenizer(examples['correct'], max_length=128, truncation=True, padding=\"max_length\")\n",
        "    inputs[\"labels\"] = [[-100 if t == tokenizer.pad_token_id else t for t in target] for target in targets[\"input_ids\"]]\n",
        "    return inputs\n",
        "\n",
        "train_ds = train_ds.map(preprocess_function, batched=True)\n",
        "val_ds = val_ds.map(preprocess_function, batched=True)\n",
        "test_ds = test_ds.map(preprocess_function, batched=True)"
      ],
      "metadata": {
        "colab": {
          "base_uri": "https://localhost:8080/",
          "height": 113,
          "referenced_widgets": [
            "a076d7c348444266a9da6366aa92b136",
            "d64c709f8774418688a3cf03a0ce1607",
            "b03695b853c248cdabce91aa1f7412d7",
            "eedbc68d685a4b4fb38f7185516d2dc3",
            "e1c52d1104f14fa9b99ce7205aea0622",
            "8136722116144e4aab318ade2a882753",
            "2cb6d61c97b64dee911da3ffb66c3f16",
            "a936374a260f4a25969a02081319dec4",
            "98ec2c727d194ecb80a942435397427c",
            "b99d883b0f624b30a42c62676d7eb959",
            "296f26f755344524acd809fbf4982263",
            "59d1a4ba9b21424189ca2edd6e588b60",
            "dfd31f784c504ec8a2aef29efbbd6006",
            "b925ff0523d046fe9bb36dcd068f5fbf",
            "8080d26cca304360b7ebd27eef7ed6a3",
            "43cf857180b34169b9a39172aad1d537",
            "a687bfc810a042f093507633ef9a195d",
            "bc1b644eaf4f44968e0f904b3e329ed2",
            "a86217bf1577483fae4716afebe310fe",
            "04ce1fe15df24d2e97dfaa38dee4c945",
            "0f45ae1a1249460c96f11d7b5259fb39",
            "f9f04d50e4df43e6bdebba587e7aa869",
            "fe5cf36cd40f4656bf41fc6872dec647",
            "a4deabb3d001438ebebc0c76a432f01a",
            "05f57f62a8654390bf77912a65f37b6f",
            "e2678826099d4aacac726b3f79c05570",
            "e30f307763c344248e31d949ecd62089",
            "d4ec242697a942ee800402b17ed75f8d",
            "a3593870eb3642eaa36084a1c52db827",
            "ad298e437c194bcf81de984026d9ac3b",
            "faa666a8a7e04b32a1ae66e01f9fe8a1",
            "5af35015d7874b68b6a227dc448e5340",
            "1076f1a3a08a473e9bffd738d4ac9ee0",
            "d962b32985dd4c17804e4b835799b1cc",
            "09744a98683e4a20926b51519651ea8e",
            "54bccf5fc8d342ee9ae673c92935efcf"
          ]
        },
        "id": "yAZAsJbpTp_e",
        "outputId": "f02b552b-18d7-4744-8122-3e69aef0519c",
        "trusted": true,
        "execution": {
          "iopub.status.busy": "2025-05-13T20:49:36.268484Z",
          "iopub.execute_input": "2025-05-13T20:49:36.268809Z",
          "iopub.status.idle": "2025-05-13T20:49:51.711372Z",
          "shell.execute_reply.started": "2025-05-13T20:49:36.268786Z",
          "shell.execute_reply": "2025-05-13T20:49:51.710550Z"
        }
      },
      "outputs": [
        {
          "output_type": "display_data",
          "data": {
            "text/plain": "Map:   0%|          | 0/5000 [00:00<?, ? examples/s]",
            "application/vnd.jupyter.widget-view+json": {
              "version_major": 2,
              "version_minor": 0,
              "model_id": "d962b32985dd4c17804e4b835799b1cc"
            }
          },
          "metadata": {}
        },
        {
          "output_type": "display_data",
          "data": {
            "text/plain": "Map:   0%|          | 0/5000 [00:00<?, ? examples/s]",
            "application/vnd.jupyter.widget-view+json": {
              "version_major": 2,
              "version_minor": 0,
              "model_id": "09744a98683e4a20926b51519651ea8e"
            }
          },
          "metadata": {}
        },
        {
          "output_type": "display_data",
          "data": {
            "text/plain": "Map:   0%|          | 0/5000 [00:00<?, ? examples/s]",
            "application/vnd.jupyter.widget-view+json": {
              "version_major": 2,
              "version_minor": 0,
              "model_id": "54bccf5fc8d342ee9ae673c92935efcf"
            }
          },
          "metadata": {}
        }
      ],
      "execution_count": null
    },
    {
      "cell_type": "code",
      "source": [
        "model = T5ForConditionalGeneration.from_pretrained(\"t5-base\")"
      ],
      "metadata": {
        "id": "48e8Z5XNTqBS",
        "trusted": true,
        "execution": {
          "iopub.status.busy": "2025-05-13T20:49:53.754996Z",
          "iopub.execute_input": "2025-05-13T20:49:53.755769Z",
          "iopub.status.idle": "2025-05-13T20:49:57.566900Z",
          "shell.execute_reply.started": "2025-05-13T20:49:53.755745Z",
          "shell.execute_reply": "2025-05-13T20:49:57.566113Z"
        },
        "outputId": "52b195b2-9e03-4476-941a-e1c9ce080b38",
        "colab": {
          "referenced_widgets": [
            "f2682facb59a4eb6a3b0ad99c2929f34",
            "7d000ab9ae924e9698c5f832727249aa"
          ]
        }
      },
      "outputs": [
        {
          "name": "stderr",
          "text": "Xet Storage is enabled for this repo, but the 'hf_xet' package is not installed. Falling back to regular HTTP download. For better performance, install the package with: `pip install huggingface_hub[hf_xet]` or `pip install hf_xet`\n",
          "output_type": "stream"
        },
        {
          "output_type": "display_data",
          "data": {
            "text/plain": "model.safetensors:   0%|          | 0.00/892M [00:00<?, ?B/s]",
            "application/vnd.jupyter.widget-view+json": {
              "version_major": 2,
              "version_minor": 0,
              "model_id": "f2682facb59a4eb6a3b0ad99c2929f34"
            }
          },
          "metadata": {}
        },
        {
          "output_type": "display_data",
          "data": {
            "text/plain": "generation_config.json:   0%|          | 0.00/147 [00:00<?, ?B/s]",
            "application/vnd.jupyter.widget-view+json": {
              "version_major": 2,
              "version_minor": 0,
              "model_id": "7d000ab9ae924e9698c5f832727249aa"
            }
          },
          "metadata": {}
        }
      ],
      "execution_count": null
    },
    {
      "cell_type": "code",
      "source": [
        "import transformers\n",
        "print(transformers.__version__)"
      ],
      "metadata": {
        "colab": {
          "base_uri": "https://localhost:8080/"
        },
        "id": "z7MKHvYBUnox",
        "outputId": "4fda1264-9240-45d5-e481-aa017d4d67ee",
        "trusted": true,
        "execution": {
          "iopub.status.busy": "2025-05-13T20:50:00.499380Z",
          "iopub.execute_input": "2025-05-13T20:50:00.500258Z",
          "iopub.status.idle": "2025-05-13T20:50:00.504682Z",
          "shell.execute_reply.started": "2025-05-13T20:50:00.500234Z",
          "shell.execute_reply": "2025-05-13T20:50:00.503813Z"
        }
      },
      "outputs": [
        {
          "name": "stdout",
          "text": "4.51.3\n",
          "output_type": "stream"
        }
      ],
      "execution_count": null
    },
    {
      "cell_type": "code",
      "source": [
        "training_args = TrainingArguments(\n",
        "    output_dir=\"./results\",\n",
        "    eval_strategy=\"epoch\",\n",
        "    save_strategy=\"epoch\",\n",
        "    learning_rate=3e-5,\n",
        "    per_device_train_batch_size=8,\n",
        "    per_device_eval_batch_size=8,\n",
        "    num_train_epochs=15,\n",
        "    weight_decay=0.01,\n",
        "    save_total_limit=2,\n",
        "    logging_dir=\"./logs\",\n",
        "    logging_steps=50,\n",
        "    load_best_model_at_end=True,\n",
        "    metric_for_best_model=\"eval_loss\",\n",
        "    greater_is_better=False,\n",
        "    fp16=torch.cuda.is_available(),\n",
        "    warmup_steps=500,\n",
        "    lr_scheduler_type=\"cosine\",\n",
        "    report_to=\"none\"\n",
        ")"
      ],
      "metadata": {
        "id": "hJXrS8YHUkIS",
        "trusted": true,
        "execution": {
          "iopub.status.busy": "2025-05-13T20:50:01.062070Z",
          "iopub.execute_input": "2025-05-13T20:50:01.062362Z",
          "iopub.status.idle": "2025-05-13T20:50:01.098620Z",
          "shell.execute_reply.started": "2025-05-13T20:50:01.062335Z",
          "shell.execute_reply": "2025-05-13T20:50:01.098055Z"
        }
      },
      "outputs": [],
      "execution_count": null
    },
    {
      "cell_type": "code",
      "source": [
        "trainer = Trainer(\n",
        "    model=model,\n",
        "    args=training_args,\n",
        "    train_dataset=train_ds,\n",
        "    eval_dataset=val_ds,\n",
        "    tokenizer=tokenizer,\n",
        "    data_collator=DataCollatorForSeq2Seq(tokenizer, model=model),\n",
        "    callbacks=[EarlyStoppingCallback(early_stopping_patience=2)]\n",
        ")"
      ],
      "metadata": {
        "colab": {
          "base_uri": "https://localhost:8080/"
        },
        "id": "BWJ8wUqBTzcc",
        "outputId": "b81b4601-ac28-45cf-a068-4ef51dd95b25",
        "trusted": true,
        "execution": {
          "iopub.status.busy": "2025-05-13T20:50:02.773360Z",
          "iopub.execute_input": "2025-05-13T20:50:02.773649Z",
          "iopub.status.idle": "2025-05-13T20:50:03.294828Z",
          "shell.execute_reply.started": "2025-05-13T20:50:02.773629Z",
          "shell.execute_reply": "2025-05-13T20:50:03.293910Z"
        }
      },
      "outputs": [
        {
          "name": "stderr",
          "text": "/tmp/ipykernel_31/41760874.py:1: FutureWarning: `tokenizer` is deprecated and will be removed in version 5.0.0 for `Trainer.__init__`. Use `processing_class` instead.\n  trainer = Trainer(\n",
          "output_type": "stream"
        }
      ],
      "execution_count": null
    },
    {
      "cell_type": "code",
      "source": [
        "trainer.train()"
      ],
      "metadata": {
        "colab": {
          "base_uri": "https://localhost:8080/",
          "height": 731
        },
        "id": "S8FtFfjWTzew",
        "outputId": "2f87d339-d20e-4438-e84a-680ebab0d06d",
        "trusted": true,
        "execution": {
          "iopub.status.busy": "2025-05-13T20:50:04.492165Z",
          "iopub.execute_input": "2025-05-13T20:50:04.492745Z",
          "iopub.status.idle": "2025-05-13T22:16:01.408957Z",
          "shell.execute_reply.started": "2025-05-13T20:50:04.492711Z",
          "shell.execute_reply": "2025-05-13T22:16:01.408140Z"
        }
      },
      "outputs": [
        {
          "name": "stderr",
          "text": "Passing a tuple of `past_key_values` is deprecated and will be removed in Transformers v4.48.0. You should pass an instance of `EncoderDecoderCache` instead, e.g. `past_key_values=EncoderDecoderCache.from_legacy_cache(past_key_values)`.\n/usr/local/lib/python3.11/dist-packages/torch/nn/parallel/_functions.py:71: UserWarning: Was asked to gather along dimension 0, but all input tensors were scalars; will instead unsqueeze and return a vector.\n  warnings.warn(\n",
          "output_type": "stream"
        },
        {
          "output_type": "display_data",
          "data": {
            "text/plain": "<IPython.core.display.HTML object>",
            "text/html": "\n    <div>\n      \n      <progress value='4695' max='4695' style='width:300px; height:20px; vertical-align: middle;'></progress>\n      [4695/4695 1:25:53, Epoch 15/15]\n    </div>\n    <table border=\"1\" class=\"dataframe\">\n  <thead>\n <tr style=\"text-align: left;\">\n      <th>Epoch</th>\n      <th>Training Loss</th>\n      <th>Validation Loss</th>\n    </tr>\n  </thead>\n  <tbody>\n    <tr>\n      <td>1</td>\n      <td>0.943200</td>\n      <td>0.727618</td>\n    </tr>\n    <tr>\n      <td>2</td>\n      <td>0.756200</td>\n      <td>0.585424</td>\n    </tr>\n    <tr>\n      <td>3</td>\n      <td>0.667000</td>\n      <td>0.537064</td>\n    </tr>\n    <tr>\n      <td>4</td>\n      <td>0.621000</td>\n      <td>0.510871</td>\n    </tr>\n    <tr>\n      <td>5</td>\n      <td>0.567100</td>\n      <td>0.495850</td>\n    </tr>\n    <tr>\n      <td>6</td>\n      <td>0.522700</td>\n      <td>0.487686</td>\n    </tr>\n    <tr>\n      <td>7</td>\n      <td>0.489700</td>\n      <td>0.482533</td>\n    </tr>\n    <tr>\n      <td>8</td>\n      <td>0.459800</td>\n      <td>0.476976</td>\n    </tr>\n    <tr>\n      <td>9</td>\n      <td>0.446500</td>\n      <td>0.472705</td>\n    </tr>\n    <tr>\n      <td>10</td>\n      <td>0.436600</td>\n      <td>0.471063</td>\n    </tr>\n    <tr>\n      <td>11</td>\n      <td>0.435100</td>\n      <td>0.469476</td>\n    </tr>\n    <tr>\n      <td>12</td>\n      <td>0.408400</td>\n      <td>0.469789</td>\n    </tr>\n    <tr>\n      <td>13</td>\n      <td>0.404100</td>\n      <td>0.469189</td>\n    </tr>\n    <tr>\n      <td>14</td>\n      <td>0.411300</td>\n      <td>0.469184</td>\n    </tr>\n    <tr>\n      <td>15</td>\n      <td>0.407500</td>\n      <td>0.469195</td>\n    </tr>\n  </tbody>\n</table><p>"
          },
          "metadata": {}
        },
        {
          "name": "stderr",
          "text": "/usr/local/lib/python3.11/dist-packages/torch/nn/parallel/_functions.py:71: UserWarning: Was asked to gather along dimension 0, but all input tensors were scalars; will instead unsqueeze and return a vector.\n  warnings.warn(\n/usr/local/lib/python3.11/dist-packages/torch/nn/parallel/_functions.py:71: UserWarning: Was asked to gather along dimension 0, but all input tensors were scalars; will instead unsqueeze and return a vector.\n  warnings.warn(\n/usr/local/lib/python3.11/dist-packages/torch/nn/parallel/_functions.py:71: UserWarning: Was asked to gather along dimension 0, but all input tensors were scalars; will instead unsqueeze and return a vector.\n  warnings.warn(\n/usr/local/lib/python3.11/dist-packages/torch/nn/parallel/_functions.py:71: UserWarning: Was asked to gather along dimension 0, but all input tensors were scalars; will instead unsqueeze and return a vector.\n  warnings.warn(\n/usr/local/lib/python3.11/dist-packages/torch/nn/parallel/_functions.py:71: UserWarning: Was asked to gather along dimension 0, but all input tensors were scalars; will instead unsqueeze and return a vector.\n  warnings.warn(\n/usr/local/lib/python3.11/dist-packages/torch/nn/parallel/_functions.py:71: UserWarning: Was asked to gather along dimension 0, but all input tensors were scalars; will instead unsqueeze and return a vector.\n  warnings.warn(\n/usr/local/lib/python3.11/dist-packages/torch/nn/parallel/_functions.py:71: UserWarning: Was asked to gather along dimension 0, but all input tensors were scalars; will instead unsqueeze and return a vector.\n  warnings.warn(\n/usr/local/lib/python3.11/dist-packages/torch/nn/parallel/_functions.py:71: UserWarning: Was asked to gather along dimension 0, but all input tensors were scalars; will instead unsqueeze and return a vector.\n  warnings.warn(\n/usr/local/lib/python3.11/dist-packages/torch/nn/parallel/_functions.py:71: UserWarning: Was asked to gather along dimension 0, but all input tensors were scalars; will instead unsqueeze and return a vector.\n  warnings.warn(\n/usr/local/lib/python3.11/dist-packages/torch/nn/parallel/_functions.py:71: UserWarning: Was asked to gather along dimension 0, but all input tensors were scalars; will instead unsqueeze and return a vector.\n  warnings.warn(\n/usr/local/lib/python3.11/dist-packages/torch/nn/parallel/_functions.py:71: UserWarning: Was asked to gather along dimension 0, but all input tensors were scalars; will instead unsqueeze and return a vector.\n  warnings.warn(\n/usr/local/lib/python3.11/dist-packages/torch/nn/parallel/_functions.py:71: UserWarning: Was asked to gather along dimension 0, but all input tensors were scalars; will instead unsqueeze and return a vector.\n  warnings.warn(\n/usr/local/lib/python3.11/dist-packages/torch/nn/parallel/_functions.py:71: UserWarning: Was asked to gather along dimension 0, but all input tensors were scalars; will instead unsqueeze and return a vector.\n  warnings.warn(\n/usr/local/lib/python3.11/dist-packages/torch/nn/parallel/_functions.py:71: UserWarning: Was asked to gather along dimension 0, but all input tensors were scalars; will instead unsqueeze and return a vector.\n  warnings.warn(\nThere were missing keys in the checkpoint model loaded: ['encoder.embed_tokens.weight', 'decoder.embed_tokens.weight', 'lm_head.weight'].\n",
          "output_type": "stream"
        },
        {
          "execution_count": 26,
          "output_type": "execute_result",
          "data": {
            "text/plain": "TrainOutput(global_step=4695, training_loss=0.5647548269286069, metrics={'train_runtime': 5156.4888, 'train_samples_per_second': 14.545, 'train_steps_per_second': 0.911, 'total_flos': 1.1417960448e+16, 'train_loss': 0.5647548269286069, 'epoch': 15.0})"
          },
          "metadata": {}
        }
      ],
      "execution_count": null
    },
    {
      "cell_type": "code",
      "source": [
        "def calculate_cer(reference, hypothesis):\n",
        "    matcher = SequenceMatcher(None, reference, hypothesis)\n",
        "    return 1 - matcher.ratio()\n"
      ],
      "metadata": {
        "id": "4iZaScCZTzg3",
        "trusted": true,
        "execution": {
          "iopub.status.busy": "2025-05-13T22:19:17.149369Z",
          "iopub.execute_input": "2025-05-13T22:19:17.149924Z",
          "iopub.status.idle": "2025-05-13T22:19:17.153843Z",
          "shell.execute_reply.started": "2025-05-13T22:19:17.149899Z",
          "shell.execute_reply": "2025-05-13T22:19:17.153028Z"
        }
      },
      "outputs": [],
      "execution_count": null
    },
    {
      "cell_type": "code",
      "source": [
        "from evaluate import load\n",
        "\n",
        "def evaluate_model(model, dataset, tokenizer, num_examples=100):\n",
        "    model.eval()\n",
        "    subset = dataset.select(range(min(num_examples, len(dataset))))\n",
        "\n",
        "    references, predictions = [], []\n",
        "    misspelled_inputs = []\n",
        "\n",
        "    for example in subset:\n",
        "        misspelled = example['misspelled']\n",
        "        misspelled_inputs.append(misspelled)\n",
        "        inputs = tokenizer(misspelled, return_tensors=\"pt\", max_length=128, truncation=True).to(model.device)\n",
        "        with torch.no_grad():\n",
        "            output = model.generate(**inputs, max_length=128)\n",
        "        pred = tokenizer.decode(output[0], skip_special_tokens=True)\n",
        "        references.append(example['correct'])\n",
        "        predictions.append(pred)\n",
        "\n",
        "    cer = [calculate_cer(ref, pred) for ref, pred in zip(references, predictions)]\n",
        "\n",
        "    wer_score = wer(references, predictions)\n",
        "\n",
        "    rouge = load(\"rouge\")\n",
        "    rouge_scores = rouge.compute(predictions=predictions, references=references, use_stemmer=True)\n",
        "\n",
        "    return {\n",
        "        'avg_cer': sum(cer) / len(cer),\n",
        "        'wer': wer_score,\n",
        "        'rougeL': rouge_scores[\"rougeL\"],\n",
        "        'samples': list(zip(misspelled_inputs, predictions, references))\n",
        "    }\n"
      ],
      "metadata": {
        "id": "JH-9LvxUTzjN",
        "trusted": true,
        "execution": {
          "iopub.status.busy": "2025-05-13T23:26:35.710986Z",
          "iopub.execute_input": "2025-05-13T23:26:35.711564Z",
          "iopub.status.idle": "2025-05-13T23:26:35.717946Z",
          "shell.execute_reply.started": "2025-05-13T23:26:35.711544Z",
          "shell.execute_reply": "2025-05-13T23:26:35.717213Z"
        }
      },
      "outputs": [],
      "execution_count": null
    },
    {
      "cell_type": "code",
      "source": [
        "results = evaluate_model(model, test_ds, tokenizer)\n",
        "\n",
        "print(\"\\nEvaluation Metrics:\")\n",
        "for k, v in results.items():\n",
        "    if k != 'samples':\n",
        "        print(f\"{k}: {v:.4f}\")"
      ],
      "metadata": {
        "trusted": true,
        "execution": {
          "iopub.status.busy": "2025-05-13T23:27:23.438289Z",
          "iopub.execute_input": "2025-05-13T23:27:23.438849Z",
          "iopub.status.idle": "2025-05-13T23:28:46.093579Z",
          "shell.execute_reply.started": "2025-05-13T23:27:23.438826Z",
          "shell.execute_reply": "2025-05-13T23:28:46.092883Z"
        },
        "id": "nvQuBKAs8VYy",
        "outputId": "e74dfebb-0221-4a11-da7b-6dade241505d"
      },
      "outputs": [
        {
          "name": "stdout",
          "text": "\nEvaluation Metrics:\navg_cer: 0.1003\nwer: 0.1480\nrougeL: 0.8510\n",
          "output_type": "stream"
        }
      ],
      "execution_count": null
    },
    {
      "cell_type": "code",
      "source": [
        "print(\"\\nSample Predictions:\")\n",
        "for i, (misspelled, pred, ref) in enumerate(results['samples'][5:10]):\n",
        "    print(f\"Example {i+1}:\")\n",
        "    print(f\"  Misspelled: {misspelled}\")\n",
        "    print(f\"  Predicted : {pred}\")\n",
        "    print(f\"  Correct   : {ref}\")\n",
        "    print()\n"
      ],
      "metadata": {
        "colab": {
          "base_uri": "https://localhost:8080/"
        },
        "id": "rdccYDrmTzll",
        "outputId": "1ad970ba-79cf-436d-8db3-7210874be23b",
        "trusted": true,
        "execution": {
          "iopub.status.busy": "2025-05-13T23:30:32.657971Z",
          "iopub.execute_input": "2025-05-13T23:30:32.658262Z",
          "iopub.status.idle": "2025-05-13T23:30:32.663710Z",
          "shell.execute_reply.started": "2025-05-13T23:30:32.658241Z",
          "shell.execute_reply": "2025-05-13T23:30:32.662846Z"
        }
      },
      "outputs": [
        {
          "name": "stdout",
          "text": "\nSample Predictions:\nExample 1:\n  Misspelled: '' Aeroydnamic '' is an unstrumentdal sang bq Daft Pukn that is patticuladly well - nkonw for its robotic guitar silo ..\n  Predicted : '' Aerodynamic '' is an unstrumental song by Daft Punk that is particularly well - known for its robotic guitar solo .\n  Correct   : '' Aerodynamic '' is an instrumental song by Daft Punk that is particularly well - known for its robotic guitar solo .\n\nExample 2:\n  Misspelled: '' Afteb a lawsuit byl Rey Lynch for allegedly not baying chim , nhq compamy was foreclosed b ySecurity Pacific Bank in oNvember 1991 jwith all of its assots svold gyy June 199 2.\n  Predicted : '' Following a lawsuit by Rey Lynch for allegedly not paying his mortgage , the company was closed by Security Pacific Bank in November 1991 with all of its assets suspended by June 1992 .\n  Correct   : '' After a lawsuit by Ray Lynch for allegedly not paying him , the company was foreclosed by Security Pacific Bank on November 1991 with all of its assets sold by June 1992 .\n\nExample 3:\n  Misspelled: '' Again Schwarzc claims 100 % hits for Sost Smithh , but nothing for his trpueex grandmothirs .\n  Predicted : '' Again Schwarz claims 100 % hits for St Smith , but nothing for his top five goals .\n  Correct   : '' Again Schwartz claims 100 % hits for Susy Smith , but nothing for his true grandmothers .\n\nExample 4:\n  Misspelled: '' Bellringer '' was inf act a deoivaive of '' rellbringer , '' a nickanme given to him bby felolw musician Dan Massiu in referenci ti hiis unquuenchcaolse thrst for debauchery nd outlandish llothina .\n  Predicted : '' Bellringer '' was in fact a derivative of '' bellringer , '' a nickname given to him by legendary musician Dan Massiu in reference to his unusual traits for debauchery and outlandish luthiers .\n  Correct   : '' Bellringer '' was in fact a derivative of '' Hellbringer , '' a nickname given to him by fellow musician Dan Massie in reference to his unquenchable thirst for debauchery and outlandish clothing .\n\nExample 5:\n  Misspelled: '' Chalayiil makhavishnu kshetram '' iss  famous Vishnu temple situated in Matanur is one of the gape temples for orwhiping Norasimhi avakhara oe aord Vishnu .\n  Predicted : '' Chalayiil makhavishnu kshetra '' is famous Vishnu temple situated in Matanur is one of the best temples for worshipping Narasimhi avakhara or Vishnu .\n  Correct   : '' Chalayil mahavishnu kshetram '' is a famous Vishnu temple situated in Mattanur is one of the rare temples for worshiping Narasimha avathara of lord Vishnu .\n\n",
          "output_type": "stream"
        }
      ],
      "execution_count": null
    },
    {
      "cell_type": "code",
      "source": [
        "def plot_metrics(metrics):\n",
        "    df = pd.DataFrame({\n",
        "        'Metric': ['CER', 'WER', 'ROUGE-L'],\n",
        "        'Value': [metrics['avg_cer'], metrics['wer'], metrics['rougeL']]\n",
        "    })\n",
        "\n",
        "    plt.figure(figsize=(8, 4))\n",
        "    sns.barplot(x='Metric', y='Value', data=df)\n",
        "\n",
        "    for i, v in enumerate(df['Value']):\n",
        "        plt.text(i, v + 0.01, f\"{v:.4f}\", ha='center', fontweight='bold')\n",
        "\n",
        "    plt.ylim(0, 1)\n",
        "    plt.title('Model Evaluation Metrics', fontsize=14)\n",
        "    plt.ylabel('Score')\n",
        "    plt.tight_layout()\n",
        "    plt.show()\n"
      ],
      "metadata": {
        "id": "hTdRNgccTznn",
        "trusted": true,
        "execution": {
          "iopub.status.busy": "2025-05-13T23:32:24.506274Z",
          "iopub.execute_input": "2025-05-13T23:32:24.506568Z",
          "iopub.status.idle": "2025-05-13T23:32:24.512419Z",
          "shell.execute_reply.started": "2025-05-13T23:32:24.506548Z",
          "shell.execute_reply": "2025-05-13T23:32:24.511431Z"
        }
      },
      "outputs": [],
      "execution_count": null
    },
    {
      "cell_type": "code",
      "source": [
        "plot_metrics(results)\n"
      ],
      "metadata": {
        "id": "A4RHV1R6Tzpv",
        "trusted": true,
        "execution": {
          "iopub.status.busy": "2025-05-13T23:32:34.648682Z",
          "iopub.execute_input": "2025-05-13T23:32:34.648948Z",
          "iopub.status.idle": "2025-05-13T23:32:34.898352Z",
          "shell.execute_reply.started": "2025-05-13T23:32:34.648931Z",
          "shell.execute_reply": "2025-05-13T23:32:34.897620Z"
        },
        "outputId": "30a8e4dc-0346-4b69-9f35-ee99366a66c2"
      },
      "outputs": [
        {
          "output_type": "display_data",
          "data": {
            "text/plain": "<Figure size 800x400 with 1 Axes>",
            "image/png": "[encoded data removed]"
          },
          "metadata": {}
        }
      ],
      "execution_count": null
    }
  ]
}